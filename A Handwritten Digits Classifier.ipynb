{
 "cells": [
  {
   "cell_type": "markdown",
   "id": "ee839ff9",
   "metadata": {},
   "source": [
    "# A Handwritten Digits Classifier\n",
    "\n",
    "#### Why is image classification a hard task?\n",
    "\n",
    "Within the field of machine learning and pattern recognition, image classification (especially for handwritten text) is towards the difficult end of the spectrum. There are a few reasons for this.\n",
    "\n",
    "First, each image in a training set is high dimensional. Each pixel in an image is a feature and a separate column. This means that a 128 x 128 image has 16384 features.\n",
    "\n",
    "Second, images are often downsampled to lower resolutions and transformed to grayscale (no color). This is a limitation of compute power unfortunately. The resolution of a 8 megapixel photo has 3264 by 2448 pixels, for a total of 7,990,272 features (or about 8 million). Images of this resolution are usually scaled down to between 128 and 512 pixels in either direction for significantly faster processing. This often results in a loss of detail that's available for training and pattern matching.\n",
    "\n",
    "Third, the features in an image don't have an obvious linear or nonlinear relationship that can be learned with a model like linear or logistic regression. In grayscale, each pixel is just represented as a brightness value ranging from 0 to 256.\n",
    "\n",
    "#### Why is deep learning effective in image classification?\n",
    "\n",
    "Deep learning is effective in image classification because of the models' ability to learn hierarchical representations. At a high level, an effective deep learning model learns intermediate representations at each layer in the model and uses them in the prediction process. \n",
    "\n",
    "In this Project, we'll explore the effectiveness of deep, feedforward neural networks at classifying images.\n",
    "\n",
    "#### Dataset used\n",
    "\n",
    "Scikit-learn contains a number of datasets pre-loaded with the library, within the namespace of sklearn.datasets. The load_digits() function returns a copy of the [hand-written digits dataset from UCI](http://archive.ics.uci.edu/ml/datasets/Optical+Recognition+of+Handwritten+Digits).\n",
    "\n",
    "Because dataframes are a tabular representation of data, each image is represented as a row of pixel values. To visualize an image from the dataframe, we need to reshape the image back to its original dimensions (28 x 28 pixels). To visualize the image, we need to reshape these pixel values back into the 28 by 28 and plot them on a coordinate grid.\n",
    "\n",
    "To reshape the image, we need to convert a training example to a numpy array (excluding the label column) and pass the result into that into the numpy.reshape() function. Then, we can visualize it using pyplot.imshow() function. To display multiple images in one matplotlib figure, we can use the equivalent axes.imshow() function."
   ]
  },
  {
   "cell_type": "code",
   "execution_count": 15,
   "id": "d8359c0d",
   "metadata": {},
   "outputs": [
    {
     "data": {
      "image/png": "[encoded data removed]",
      "text/plain": [
       "<Figure size 1440x576 with 8 Axes>"
      ]
     },
     "metadata": {
      "needs_background": "light"
     },
     "output_type": "display_data"
    }
   ],
   "source": [
    "from sklearn.datasets import load_digits\n",
    "import pandas as pd\n",
    "import matplotlib.pyplot as plt\n",
    "%matplotlib inline\n",
    "\n",
    "digits, target = load_digits(return_X_y = True)\n",
    "digits = pd.DataFrame(digits)\n",
    "target = pd.Series(target)\n",
    "\n",
    "fig, axs = plt.subplots(2, 4, figsize=(20, 8))\n",
    "rows = [0, 100, 200, 300, 1000, 1100, 1200, 1300]\n",
    "plt_num = 0\n",
    "for i in rows:\n",
    "    image = digits.iloc[i] \n",
    "    np_image = image.values\n",
    "    np_image = np_image.reshape(8,8)\n",
    "    plt_num += 1\n",
    "    ax = plt.subplot(2,4,plt_num)\n",
    "    ax.imshow(np_image, cmap='gray_r')"
   ]
  },
  {
   "cell_type": "code",
   "execution_count": 16,
   "id": "9166594f",
   "metadata": {},
   "outputs": [
    {
     "data": {
      "text/html": [
       "<div>\n",
       "<style scoped>\n",
       "    .dataframe tbody tr th:only-of-type {\n",
       "        vertical-align: middle;\n",
       "    }\n",
       "\n",
       "    .dataframe tbody tr th {\n",
       "        vertical-align: top;\n",
       "    }\n",
       "\n",
       "    .dataframe thead th {\n",
       "        text-align: right;\n",
       "    }\n",
       "</style>\n",
       "<table border=\"1\" class=\"dataframe\">\n",
       "  <thead>\n",
       "    <tr style=\"text-align: right;\">\n",
       "      <th></th>\n",
       "      <th>0</th>\n",
       "      <th>1</th>\n",
       "      <th>2</th>\n",
       "      <th>3</th>\n",
       "      <th>4</th>\n",
       "      <th>5</th>\n",
       "      <th>6</th>\n",
       "      <th>7</th>\n",
       "      <th>8</th>\n",
       "      <th>9</th>\n",
       "      <th>...</th>\n",
       "      <th>55</th>\n",
       "      <th>56</th>\n",
       "      <th>57</th>\n",
       "      <th>58</th>\n",
       "      <th>59</th>\n",
       "      <th>60</th>\n",
       "      <th>61</th>\n",
       "      <th>62</th>\n",
       "      <th>63</th>\n",
       "      <th>target</th>\n",
       "    </tr>\n",
       "  </thead>\n",
       "  <tbody>\n",
       "    <tr>\n",
       "      <th>0</th>\n",
       "      <td>0.0</td>\n",
       "      <td>0.0</td>\n",
       "      <td>5.0</td>\n",
       "      <td>13.0</td>\n",
       "      <td>9.0</td>\n",
       "      <td>1.0</td>\n",
       "      <td>0.0</td>\n",
       "      <td>0.0</td>\n",
       "      <td>0.0</td>\n",
       "      <td>0.0</td>\n",
       "      <td>...</td>\n",
       "      <td>0.0</td>\n",
       "      <td>0.0</td>\n",
       "      <td>0.0</td>\n",
       "      <td>6.0</td>\n",
       "      <td>13.0</td>\n",
       "      <td>10.0</td>\n",
       "      <td>0.0</td>\n",
       "      <td>0.0</td>\n",
       "      <td>0.0</td>\n",
       "      <td>0</td>\n",
       "    </tr>\n",
       "    <tr>\n",
       "      <th>1</th>\n",
       "      <td>0.0</td>\n",
       "      <td>0.0</td>\n",
       "      <td>0.0</td>\n",
       "      <td>12.0</td>\n",
       "      <td>13.0</td>\n",
       "      <td>5.0</td>\n",
       "      <td>0.0</td>\n",
       "      <td>0.0</td>\n",
       "      <td>0.0</td>\n",
       "      <td>0.0</td>\n",
       "      <td>...</td>\n",
       "      <td>0.0</td>\n",
       "      <td>0.0</td>\n",
       "      <td>0.0</td>\n",
       "      <td>0.0</td>\n",
       "      <td>11.0</td>\n",
       "      <td>16.0</td>\n",
       "      <td>10.0</td>\n",
       "      <td>0.0</td>\n",
       "      <td>0.0</td>\n",
       "      <td>1</td>\n",
       "    </tr>\n",
       "    <tr>\n",
       "      <th>2</th>\n",
       "      <td>0.0</td>\n",
       "      <td>0.0</td>\n",
       "      <td>0.0</td>\n",
       "      <td>4.0</td>\n",
       "      <td>15.0</td>\n",
       "      <td>12.0</td>\n",
       "      <td>0.0</td>\n",
       "      <td>0.0</td>\n",
       "      <td>0.0</td>\n",
       "      <td>0.0</td>\n",
       "      <td>...</td>\n",
       "      <td>0.0</td>\n",
       "      <td>0.0</td>\n",
       "      <td>0.0</td>\n",
       "      <td>0.0</td>\n",
       "      <td>3.0</td>\n",
       "      <td>11.0</td>\n",
       "      <td>16.0</td>\n",
       "      <td>9.0</td>\n",
       "      <td>0.0</td>\n",
       "      <td>2</td>\n",
       "    </tr>\n",
       "    <tr>\n",
       "      <th>3</th>\n",
       "      <td>0.0</td>\n",
       "      <td>0.0</td>\n",
       "      <td>7.0</td>\n",
       "      <td>15.0</td>\n",
       "      <td>13.0</td>\n",
       "      <td>1.0</td>\n",
       "      <td>0.0</td>\n",
       "      <td>0.0</td>\n",
       "      <td>0.0</td>\n",
       "      <td>8.0</td>\n",
       "      <td>...</td>\n",
       "      <td>0.0</td>\n",
       "      <td>0.0</td>\n",
       "      <td>0.0</td>\n",
       "      <td>7.0</td>\n",
       "      <td>13.0</td>\n",
       "      <td>13.0</td>\n",
       "      <td>9.0</td>\n",
       "      <td>0.0</td>\n",
       "      <td>0.0</td>\n",
       "      <td>3</td>\n",
       "    </tr>\n",
       "    <tr>\n",
       "      <th>4</th>\n",
       "      <td>0.0</td>\n",
       "      <td>0.0</td>\n",
       "      <td>0.0</td>\n",
       "      <td>1.0</td>\n",
       "      <td>11.0</td>\n",
       "      <td>0.0</td>\n",
       "      <td>0.0</td>\n",
       "      <td>0.0</td>\n",
       "      <td>0.0</td>\n",
       "      <td>0.0</td>\n",
       "      <td>...</td>\n",
       "      <td>0.0</td>\n",
       "      <td>0.0</td>\n",
       "      <td>0.0</td>\n",
       "      <td>0.0</td>\n",
       "      <td>2.0</td>\n",
       "      <td>16.0</td>\n",
       "      <td>4.0</td>\n",
       "      <td>0.0</td>\n",
       "      <td>0.0</td>\n",
       "      <td>4</td>\n",
       "    </tr>\n",
       "  </tbody>\n",
       "</table>\n",
       "<p>5 rows × 65 columns</p>\n",
       "</div>"
      ],
      "text/plain": [
       "     0    1    2     3     4     5    6    7    8    9  ...   55   56   57  \\\n",
       "0  0.0  0.0  5.0  13.0   9.0   1.0  0.0  0.0  0.0  0.0  ...  0.0  0.0  0.0   \n",
       "1  0.0  0.0  0.0  12.0  13.0   5.0  0.0  0.0  0.0  0.0  ...  0.0  0.0  0.0   \n",
       "2  0.0  0.0  0.0   4.0  15.0  12.0  0.0  0.0  0.0  0.0  ...  0.0  0.0  0.0   \n",
       "3  0.0  0.0  7.0  15.0  13.0   1.0  0.0  0.0  0.0  8.0  ...  0.0  0.0  0.0   \n",
       "4  0.0  0.0  0.0   1.0  11.0   0.0  0.0  0.0  0.0  0.0  ...  0.0  0.0  0.0   \n",
       "\n",
       "    58    59    60    61   62   63  target  \n",
       "0  6.0  13.0  10.0   0.0  0.0  0.0       0  \n",
       "1  0.0  11.0  16.0  10.0  0.0  0.0       1  \n",
       "2  0.0   3.0  11.0  16.0  9.0  0.0       2  \n",
       "3  7.0  13.0  13.0   9.0  0.0  0.0       3  \n",
       "4  0.0   2.0  16.0   4.0  0.0  0.0       4  \n",
       "\n",
       "[5 rows x 65 columns]"
      ]
     },
     "execution_count": 16,
     "metadata": {},
     "output_type": "execute_result"
    }
   ],
   "source": [
    "# combine the two datasets\n",
    "digits['target'] = target\n",
    "digits.head()"
   ]
  },
  {
   "cell_type": "markdown",
   "id": "53bec1c4",
   "metadata": {},
   "source": [
    "## k-nearest neighbors algorithm\n",
    "While linear and logistic regression models make assumptions about the linearity between the features and the output labels, the k-nearest neighbors algorithm makes no such assumption. This allows them to capture nonlinearity in the data.\n",
    "\n",
    "I am going to use the KNeighborsClassifier package to train and test k-nearest neighbors models. Cross validation with k-fold as 4 is also applied."
   ]
  },
  {
   "cell_type": "code",
   "execution_count": 19,
   "id": "cf805db1",
   "metadata": {},
   "outputs": [],
   "source": [
    "from sklearn.neighbors import KNeighborsClassifier\n",
    "from sklearn.metrics import roc_auc_score\n",
    "import numpy as np\n",
    "from sklearn.model_selection import KFold\n",
    "\n",
    "def train(nn, train_features, train_labels):\n",
    "    knn = KNeighborsClassifier(n_neighbors = nn)\n",
    "    knn.fit(train_features, train_labels)\n",
    "    return knn\n",
    "\n",
    "def test(model, test_features, test_target):\n",
    "    predictions = model.predict(test_features)\n",
    "    train_result = pd.DataFrame()\n",
    "    train_result['true_result'] = test_target\n",
    "    train_result['prediction'] = predictions\n",
    "    accuracy = sum(train_result[\"prediction\"] == train_result[\"true_result\"])/len(train_result)    \n",
    "    return accuracy\n",
    "\n",
    "def cross_validate(k, df, target):\n",
    "    kf = KFold(n_splits=4, random_state=2, shuffle=True)\n",
    "    train_accuracies = []\n",
    "    test_accuracies = []\n",
    "    for train_index, test_index in kf.split(df):\n",
    "        train_features, test_features = df.loc[train_index], df.loc[test_index]\n",
    "        train_target, test_target = target.loc[train_index], target.loc[test_index]\n",
    "\n",
    "        knc = train(k, train_features, train_target)\n",
    "        train_accuracy = test(knc, train_features, train_target)\n",
    "        test_accuracy = test(knc, test_features, test_target)\n",
    "        train_accuracies.append(train_accuracy)\n",
    "        test_accuracies.append(test_accuracy)\n",
    "    \n",
    "    return train_accuracies, test_accuracies"
   ]
  },
  {
   "cell_type": "code",
   "execution_count": 22,
   "id": "7d77a6a5",
   "metadata": {},
   "outputs": [
    {
     "name": "stdout",
     "output_type": "stream",
     "text": [
      "mean_train_accuracies =  1.0\n",
      "mean_test_accuracies =  0.9910987379361544\n"
     ]
    }
   ],
   "source": [
    "train_accuracies, test_accuracies = cross_validate(1, digits, target)\n",
    "mean_train_accuracies = np.mean(train_accuracies)\n",
    "mean_test_accuracies = np.mean(test_accuracies)\n",
    "print(\"mean_train_accuracies = \", mean_train_accuracies)\n",
    "print(\"mean_test_accuracies = \", mean_test_accuracies)"
   ]
  },
  {
   "cell_type": "code",
   "execution_count": 24,
   "id": "06964e3c",
   "metadata": {},
   "outputs": [
    {
     "data": {
      "text/plain": [
       "<matplotlib.legend.Legend at 0x7fd2f5eaa040>"
      ]
     },
     "execution_count": 24,
     "metadata": {},
     "output_type": "execute_result"
    },
    {
     "data": {
      "image/png": "[encoded data removed]",
      "text/plain": [
       "<Figure size 432x288 with 1 Axes>"
      ]
     },
     "metadata": {
      "needs_background": "light"
     },
     "output_type": "display_data"
    }
   ],
   "source": [
    "train_mean_accuracies = []\n",
    "test_mean_accuracies = []\n",
    "for k in range(1, 25):\n",
    "    train_accuracies, test_accuracies = cross_validate(k, digits, target)\n",
    "    train_mean_accuracies.append(np.mean(train_accuracies))\n",
    "    test_mean_accuracies.append(np.mean(test_accuracies))\n",
    "x = range(1, 25)\n",
    "y = train_mean_accuracies\n",
    "plt.plot(x, y, color = 'orange', label = 'train')\n",
    "y = test_mean_accuracies\n",
    "plt.plot(x, y, color = 'green', label = 'test')\n",
    "\n",
    "plt.xlabel('Number of neighbors')\n",
    "plt.ylabel('Mean of accuracy')\n",
    "plt.title('K-nearest neighbors accuracy')\n",
    "plt.legend(bbox_to_anchor=(1.2,1), borderaxespad=0)"
   ]
  },
  {
   "cell_type": "markdown",
   "id": "7b3f9d40",
   "metadata": {},
   "source": [
    "## Single-layer neural network\n",
    "\n",
    "There are a few downsides to using k-nearest neighbors:\n",
    "\n",
    "- high memory usage (for each new unseen observation, many comparisons need to be made to seen observations)\n",
    "- no model representation to debug and explore\n",
    "\n",
    "Let's now try a neural network with a single hidden layer. Use the MLPClassifier package from scikit-learn."
   ]
  },
  {
   "cell_type": "code",
   "execution_count": 47,
   "id": "939d2bcf",
   "metadata": {},
   "outputs": [],
   "source": [
    "from sklearn.neural_network import MLPClassifier\n",
    "\n",
    "def train_nn(neuron_arch, train_features, train_target):\n",
    "    mlp = MLPClassifier(hidden_layer_sizes=neuron_arch, max_iter=2000)\n",
    "    mlp.fit(train_features, train_target)\n",
    "    return mlp\n",
    "    \n",
    "def test(model, test_features, test_target):\n",
    "    predictions = model.predict(test_features)\n",
    "    train_result = pd.DataFrame()\n",
    "    train_result['true_result'] = test_target\n",
    "    train_result['prediction'] = predictions\n",
    "    accuracy = sum(train_result[\"prediction\"] == train_result[\"true_result\"])/len(train_result)    \n",
    "    return accuracy\n",
    " \n",
    "def cross_validate(n_neurons, df, target):\n",
    "    kf = KFold(n_splits=4, shuffle=True)\n",
    "    accuracies = []\n",
    "    for train_index, test_index in kf.split(df):\n",
    "        train_features, test_features = df.loc[train_index], df.loc[test_index]\n",
    "        train_target, test_target = target.loc[train_index], target.loc[test_index]\n",
    "\n",
    "        model = train_nn(n_neurons, train_features, train_target)\n",
    "        accuracy = test(model, test_features, test_target)\n",
    "        accuracies.append(accuracy)    \n",
    "    return accuracies"
   ]
  },
  {
   "cell_type": "code",
   "execution_count": 48,
   "id": "755751eb",
   "metadata": {},
   "outputs": [
    {
     "data": {
      "text/plain": [
       "Text(0.5, 1.0, 'Neural Network with single hidden layer')"
      ]
     },
     "execution_count": 48,
     "metadata": {},
     "output_type": "execute_result"
    },
    {
     "data": {
      "image/png": "[encoded data removed]",
      "text/plain": [
       "<Figure size 432x288 with 1 Axes>"
      ]
     },
     "metadata": {
      "needs_background": "light"
     },
     "output_type": "display_data"
    }
   ],
   "source": [
    "neurons = [(8,),\n",
    "          (16,),\n",
    "          (32,),\n",
    "          (64,),\n",
    "          (128,),\n",
    "          (256,)]\n",
    "mean_accuracies = []\n",
    "for n in neurons:\n",
    "    accuracies = cross_validate(n, digits, target)\n",
    "    mean_accuracies.append(np.mean(accuracies))\n",
    "x = [i[0] for i in neurons]\n",
    "y = mean_accuracies\n",
    "plt.plot(x, y)\n",
    "plt.xlabel('Number of neorons')\n",
    "plt.ylabel('Mean of accuracy')\n",
    "plt.title('Neural Network with single hidden layer')"
   ]
  },
  {
   "cell_type": "code",
   "execution_count": 49,
   "id": "cff78887",
   "metadata": {},
   "outputs": [
    {
     "name": "stdout",
     "output_type": "stream",
     "text": [
      "mean_train_accuracies =  0.9990724249293408\n",
      "mean_test_accuracies =  0.9538072259341748\n"
     ]
    }
   ],
   "source": [
    "def cross_validate(n_neurons, df, target, nsplits = 4):\n",
    "    kf = KFold(n_splits=nsplits, random_state=2, shuffle=True)\n",
    "    train_accuracies = []\n",
    "    test_accuracies = []\n",
    "    for train_index, test_index in kf.split(df):\n",
    "        train_features, test_features = df.loc[train_index], df.loc[test_index]\n",
    "        train_target, test_target = target.loc[train_index], target.loc[test_index]\n",
    "\n",
    "        model = train_nn(n_neurons, train_features, train_target)\n",
    "        train_accuracy = test(model, train_features, train_target)\n",
    "        test_accuracy = test(model, test_features, test_target)\n",
    "        train_accuracies.append(train_accuracy) \n",
    "        test_accuracies.append(test_accuracy) \n",
    "    return train_accuracies, test_accuracies\n",
    "train_accuracies, test_accuracies = cross_validate((8,), digits, target)\n",
    "mean_train_accuracies = np.mean(train_accuracies)\n",
    "mean_test_accuracies = np.mean(test_accuracies)\n",
    "print(\"mean_train_accuracies = \", mean_train_accuracies)\n",
    "print(\"mean_test_accuracies = \", mean_test_accuracies)"
   ]
  },
  {
   "cell_type": "code",
   "execution_count": 50,
   "id": "a8e52367",
   "metadata": {},
   "outputs": [],
   "source": [
    "def run_draw_nn(neurons, plt_title, nsplits = 4):\n",
    "    train_mean_accuracies = []\n",
    "    test_mean_accuracies = []\n",
    "    for n in neurons:\n",
    "        train_accuracies, test_accuracies = cross_validate(n, digits, target, nsplits)\n",
    "        train_mean_accuracies.append(np.mean(train_accuracies))\n",
    "        test_mean_accuracies.append(np.mean(test_accuracies))\n",
    "    x = [i[0] for i in neurons]\n",
    "    y = train_mean_accuracies\n",
    "    plt.plot(x, y, color = 'orange', label = 'train')\n",
    "    y = test_mean_accuracies\n",
    "    plt.plot(x, y, color = 'green', label = 'test')\n",
    "    plt.xlabel('Number of neurons')\n",
    "    plt.ylabel('Mean of accuracy')\n",
    "    plt.title(plt_title)\n",
    "    plt.legend(bbox_to_anchor=(1.2,1), borderaxespad=0)\n",
    "    return train_mean_accuracies, test_mean_accuracies"
   ]
  },
  {
   "cell_type": "code",
   "execution_count": 51,
   "id": "ae8e166a",
   "metadata": {},
   "outputs": [
    {
     "data": {
      "image/png": "[encoded data removed]",
      "text/plain": [
       "<Figure size 432x288 with 1 Axes>"
      ]
     },
     "metadata": {
      "needs_background": "light"
     },
     "output_type": "display_data"
    }
   ],
   "source": [
    "neurons = [(8,),\n",
    "          (16,),\n",
    "          (32,),\n",
    "          (64,),\n",
    "          (128,),\n",
    "          (256,)]\n",
    "train_mean_accuracies, test_mean_accuracies = run_draw_nn(neurons, 'Neural Network with single hidden layer')"
   ]
  },
  {
   "cell_type": "code",
   "execution_count": 52,
   "id": "bdd5d729",
   "metadata": {},
   "outputs": [
    {
     "data": {
      "text/plain": [
       "[0.9543689680772086,\n",
       " 0.9671789161098737,\n",
       " 0.9705147240781985,\n",
       " 0.981085127443702,\n",
       " 0.9810876020786934,\n",
       " 0.983312298935907]"
      ]
     },
     "execution_count": 52,
     "metadata": {},
     "output_type": "execute_result"
    }
   ],
   "source": [
    "test_mean_accuracies"
   ]
  },
  {
   "cell_type": "markdown",
   "id": "6dd2b34f",
   "metadata": {},
   "source": [
    "In the Neural Network single layer the accuracy of the model with 256 neurons is about 98%. Neural Networks with a single layer gets very soon to 100% accuracy for the train data set but may act poorly for the test data set which is a sign of overfitting.\n",
    "\n",
    "Let's try using two hidden layers and continue to increase the number of neurons in each layer."
   ]
  },
  {
   "cell_type": "markdown",
   "id": "fdc294eb",
   "metadata": {},
   "source": [
    "## 2-layer Neural network"
   ]
  },
  {
   "cell_type": "code",
   "execution_count": 53,
   "id": "22f50ae2",
   "metadata": {},
   "outputs": [
    {
     "data": {
      "image/png": "[encoded data removed]",
      "text/plain": [
       "<Figure size 432x288 with 1 Axes>"
      ]
     },
     "metadata": {
      "needs_background": "light"
     },
     "output_type": "display_data"
    }
   ],
   "source": [
    "neurons = [(64,64),\n",
    "          (128,128),\n",
    "          (256,256)]\n",
    "train_mean_accuracies, test_mean_accuracies = run_draw_nn(neurons, 'Neural Network with two hidden layers')"
   ]
  },
  {
   "cell_type": "code",
   "execution_count": 54,
   "id": "b1d41d69",
   "metadata": {},
   "outputs": [
    {
     "data": {
      "text/plain": [
       "[0.9782999257609504, 0.9822011878247958, 0.9838678544914625]"
      ]
     },
     "execution_count": 54,
     "metadata": {},
     "output_type": "execute_result"
    }
   ],
   "source": [
    "test_mean_accuracies"
   ]
  },
  {
   "cell_type": "markdown",
   "id": "dfcc7c3c",
   "metadata": {},
   "source": [
    "The accuracy of the test data set has stayed to 98%. Using more hidden layers is known to increase the amount of overfitting that happens. To help us prevent overfitting, let's increase the number of folds we use for k-fold cross validation to 6 while testing networks with 3 hidden layers."
   ]
  },
  {
   "cell_type": "markdown",
   "id": "9c9d346a",
   "metadata": {},
   "source": [
    "## 3-layer Neural network w/ 6-fold cross validation"
   ]
  },
  {
   "cell_type": "code",
   "execution_count": 55,
   "id": "d6338f07",
   "metadata": {},
   "outputs": [
    {
     "data": {
      "image/png": "[encoded data removed]",
      "text/plain": [
       "<Figure size 432x288 with 1 Axes>"
      ]
     },
     "metadata": {
      "needs_background": "light"
     },
     "output_type": "display_data"
    }
   ],
   "source": [
    "neurons = [(10,10,10),\n",
    "          (64,64,64),\n",
    "          (128,128,128), \n",
    "          (256, 256, 256)]\n",
    "train_mean_accuracies, test_mean_accuracies = run_draw_nn(neurons, 'Neural Network with two hidden layers', 6)"
   ]
  },
  {
   "cell_type": "code",
   "execution_count": 56,
   "id": "8bf09408",
   "metadata": {},
   "outputs": [
    {
     "data": {
      "text/plain": [
       "[0.9604979561501302,\n",
       " 0.9783110367892979,\n",
       " 0.9838721664808622,\n",
       " 0.9877684875510964]"
      ]
     },
     "execution_count": 56,
     "metadata": {},
     "output_type": "execute_result"
    }
   ],
   "source": [
    "test_mean_accuracies"
   ]
  },
  {
   "cell_type": "markdown",
   "id": "b7e42e72",
   "metadata": {},
   "source": [
    "It seems Neural Networks with three hidden layers and using 6 fold cross validation didn't improve accuracy much. There are still strong signs of overfitting."
   ]
  }
 ],
 "metadata": {
  "kernelspec": {
   "display_name": "Python 3",
   "language": "python",
   "name": "python3"
  },
  "language_info": {
   "codemirror_mode": {
    "name": "ipython",
    "version": 3
   },
   "file_extension": ".py",
   "mimetype": "text/x-python",
   "name": "python",
   "nbconvert_exporter": "python",
   "pygments_lexer": "ipython3",
   "version": "3.8.8"
  }
 },
 "nbformat": 4,
 "nbformat_minor": 5
}
